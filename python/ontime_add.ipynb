{
 "cells": [
  {
   "cell_type": "code",
   "execution_count": 5,
   "id": "3e812d08-7c28-4e1f-b20d-cf0716b2e3a4",
   "metadata": {},
   "outputs": [],
   "source": [
    "import sqlite3\n",
    "import pandas as pd"
   ]
  },
  {
   "cell_type": "code",
   "execution_count": 6,
   "id": "f8ea5578-1672-46df-bdf0-21dfdb0b0f5c",
   "metadata": {},
   "outputs": [],
   "source": [
    "ontime = pd.read_csv(\"2006.csv\")\n",
    "ontime = pd.concat([ontime, pd.read_csv(\"2007.csv\")])\n",
    "conn = sqlite3.connect('airline2.db')\n",
    "ontime.to_sql('ontime', con = conn, index = False)\n",
    "conn.close()"
   ]
  }
 ],
 "metadata": {
  "kernelspec": {
   "display_name": "Python 3 (ipykernel)",
   "language": "python",
   "name": "python3"
  },
  "language_info": {
   "codemirror_mode": {
    "name": "ipython",
    "version": 3
   },
   "file_extension": ".py",
   "mimetype": "text/x-python",
   "name": "python",
   "nbconvert_exporter": "python",
   "pygments_lexer": "ipython3",
   "version": "3.9.7"
  }
 },
 "nbformat": 4,
 "nbformat_minor": 5
}
